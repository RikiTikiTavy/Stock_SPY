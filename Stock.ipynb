{
 "cells": [
  {
   "cell_type": "code",
   "execution_count": 2,
   "metadata": {
    "collapsed": true
   },
   "outputs": [],
   "source": [
    "import pandas\n",
    "import os"
   ]
  },
  {
   "cell_type": "code",
   "execution_count": 50,
   "metadata": {},
   "outputs": [
    {
     "name": "stdout",
     "output_type": "stream",
     "text": [
      "Empty DataFrame\n",
      "Columns: []\n",
      "Index: [2010-01-22 00:00:00, 2010-01-23 00:00:00, 2010-01-24 00:00:00, 2010-01-25 00:00:00, 2010-01-26 00:00:00, 2010-01-27 00:00:00, 2010-01-28 00:00:00, 2010-01-29 00:00:00]\n"
     ]
    }
   ],
   "source": [
    "\n",
    "start_date='2010-01-22'\n",
    "end_date='2010-01-29'\n",
    "dates=pandas.date_range(start_date, end_date)\n",
    "    \n",
    "df1=pandas.DataFrame(index=dates)\n",
    "    \n",
    "print(df1)    "
   ]
  },
  {
   "cell_type": "code",
   "execution_count": 51,
   "metadata": {
    "collapsed": true
   },
   "outputs": [],
   "source": [
    "dfSPY = pandas.read_csv(\"/home/morra/Downloads/ML4T_2018Spring/data/SPY.csv\", \n",
    "                        index_col=\"Date\", \n",
    "                        parse_dates=True,\n",
    "                       usecols=['Date', 'Adj Close'],\n",
    "                       na_values=['nan'])"
   ]
  },
  {
   "cell_type": "code",
   "execution_count": 52,
   "metadata": {
    "collapsed": true
   },
   "outputs": [],
   "source": [
    "dfSPY = dfSPY.rename(columns={'Adj Close':'SPY'})"
   ]
  },
  {
   "cell_type": "code",
   "execution_count": 53,
   "metadata": {
    "collapsed": true
   },
   "outputs": [],
   "source": [
    "df1=df1.join(dfSPY, how='inner')"
   ]
  },
  {
   "cell_type": "code",
   "execution_count": 54,
   "metadata": {},
   "outputs": [
    {
     "name": "stdout",
     "output_type": "stream",
     "text": [
      "               SPY\n",
      "2010-01-22  104.34\n",
      "2010-01-25  104.87\n",
      "2010-01-26  104.43\n",
      "2010-01-27  104.93\n",
      "2010-01-28  103.73\n",
      "2010-01-29  102.60\n"
     ]
    }
   ],
   "source": [
    "print(df1)"
   ]
  },
  {
   "cell_type": "code",
   "execution_count": 59,
   "metadata": {
    "collapsed": true
   },
   "outputs": [],
   "source": [
    "symbols=['SLE','SNV','PTV']\n",
    "\n",
    "for symbol in symbols:\n",
    "    df_temp=pandas.read_csv(\"/home/morra/Downloads/ML4T_2018Spring/data/{}.csv\".format(symbol),\n",
    "                        index_col='Date',\n",
    "                       parse_dates=True,\n",
    "                       usecols=['Date', 'Adj Close'],\n",
    "                       na_values=['nan'])\n",
    "    \n",
    "    df_temp = df_temp.rename(columns={'Adj Close': symbol})\n",
    "    \n",
    "    df1=df1.join(df_temp, how='inner')"
   ]
  },
  {
   "cell_type": "code",
   "execution_count": 60,
   "metadata": {},
   "outputs": [
    {
     "name": "stdout",
     "output_type": "stream",
     "text": [
      "               SPY    SLE   SNV    PTV\n",
      "2010-01-22  104.34  11.00  2.68  23.66\n",
      "2010-01-25  104.87  11.28  2.53  23.45\n",
      "2010-01-26  104.43  11.25  2.57  23.33\n",
      "2010-01-27  104.93  11.43  2.60  24.28\n",
      "2010-01-28  103.73  11.44  2.60  23.46\n",
      "2010-01-29  102.60  11.41  2.62  22.55\n"
     ]
    }
   ],
   "source": [
    "print(df1)"
   ]
  },
  {
   "cell_type": "code",
   "execution_count": 68,
   "metadata": {},
   "outputs": [
    {
     "name": "stderr",
     "output_type": "stream",
     "text": [
      "/home/morra/anaconda3/lib/python3.6/site-packages/ipykernel_launcher.py:3: DeprecationWarning: \n",
      ".ix is deprecated. Please use\n",
      ".loc for label based indexing or\n",
      ".iloc for positional indexing\n",
      "\n",
      "See the documentation here:\n",
      "http://pandas.pydata.org/pandas-docs/stable/indexing.html#ix-indexer-is-deprecated\n",
      "  This is separate from the ipykernel package so we can avoid doing imports until\n"
     ]
    },
    {
     "name": "stdout",
     "output_type": "stream",
     "text": [
      "               SPY   SNV\n",
      "2010-01-25  104.87  2.53\n",
      "2010-01-26  104.43  2.57\n",
      "2010-01-27  104.93  2.60\n",
      "2010-01-28  103.73  2.60\n"
     ]
    }
   ],
   "source": [
    "st_date = '2010-01-25'\n",
    "ed_date = '2010-01-28'\n",
    "print (df1.ix[st_date: ed_date, ['SPY', 'SNV']])"
   ]
  },
  {
   "cell_type": "code",
   "execution_count": 66,
   "metadata": {},
   "outputs": [
    {
     "data": {
      "text/plain": [
       "2010-01-22    104.34\n",
       "2010-01-25    104.87\n",
       "2010-01-26    104.43\n",
       "2010-01-27    104.93\n",
       "2010-01-28    103.73\n",
       "2010-01-29    102.60\n",
       "Freq: B, Name: SPY, dtype: float64"
      ]
     },
     "execution_count": 66,
     "metadata": {},
     "output_type": "execute_result"
    }
   ],
   "source": [
    "df1['SPY']"
   ]
  },
  {
   "cell_type": "code",
   "execution_count": 74,
   "metadata": {
    "collapsed": true
   },
   "outputs": [],
   "source": [
    "import matplotlib as plt"
   ]
  },
  {
   "cell_type": "code",
   "execution_count": 84,
   "metadata": {},
   "outputs": [
    {
     "data": {
      "text/plain": [
       "Text(0,0.5,'Price')"
      ]
     },
     "execution_count": 84,
     "metadata": {},
     "output_type": "execute_result"
    },
    {
     "data": {
      "image/png": "[encoded data removed]",
      "text/plain": [
       "<Figure size 432x288 with 1 Axes>"
      ]
     },
     "metadata": {},
     "output_type": "display_data"
    }
   ],
   "source": [
    "\n",
    "ax = dfSPY.plot(title='Stock prices', fontsize=2)\n",
    "ax.set_xlabel('Date')\n",
    "ax.set_ylabel('Price')\n"
   ]
  }
 ],
 "metadata": {
  "kernelspec": {
   "display_name": "Python 3",
   "language": "python",
   "name": "python3"
  },
  "language_info": {
   "codemirror_mode": {
    "name": "ipython",
    "version": 3
   },
   "file_extension": ".py",
   "mimetype": "text/x-python",
   "name": "python",
   "nbconvert_exporter": "python",
   "pygments_lexer": "ipython3",
   "version": "3.6.1"
  }
 },
 "nbformat": 4,
 "nbformat_minor": 2
}
